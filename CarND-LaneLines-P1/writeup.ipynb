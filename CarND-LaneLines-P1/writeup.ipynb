{
 "cells": [
  {
   "cell_type": "markdown",
   "metadata": {},
   "source": [
    "### Reflection\n",
    "\n",
    "### 1. Describe your pipeline. As part of the description, explain how you modified the draw_lines() function.\n",
    "\n",
    "My pipeline consisted of 5 steps:\n",
    "* First, I converted the images to grayscale.\n",
    "\n",
    "* Second, I blurred the images. \n",
    "\n",
    "* Third, I detected  edges. \n",
    "\n",
    "* Fourth, I selected the region of interest. \n",
    "\n",
    "* Fifth, I transformed the selected regions into hough space to detect lines and drawn the lines on the original image.\n",
    "\n",
    "In order to draw a single line on the left and right lanes, I modified the draw_lines() function by checking the slope of lines to divide them into two categories as left and right. Then find the lines fit the points of the two categories separately then drawn the two fitted lines on the original image.\n",
    "\n",
    "\n",
    "\n",
    "![solidWhiteRight][image1]\n",
    "\n",
    "![solidYellowCurve][image2]\n",
    "\n",
    "![solidYellowLeft][image3]\n",
    "\n",
    "![solidYellowCurve2][image4]\n",
    "\n",
    "![solidWhiteCurve][image5]\n",
    "\n",
    "![whiteCarLaneSwitch][image6]\n",
    "\n",
    "\n",
    "### 2. Identify potential shortcomings with your current pipeline\n",
    "\n",
    "\n",
    "One potential shortcoming would be when there are shadows of obstacles on the road which will influence the edges detection.\n",
    "\n",
    "Another shortcoming could be when the road is under strong sun light that the color of the road changes to be almost white wich will influence the edge detection as well.\n",
    "\n",
    "\n",
    "### 3. Suggest possible improvements to your pipeline\n",
    "\n",
    "A possible improvement would be to use color images instead of grayscale images to improve the performance of edge detection.\n",
    "\n",
    "Another potential improvement could be to use a more robust region selection algorithm to adapt to more complicated environment.\n",
    "\n",
    "\n",
    "[image1]: ./test_images_output/solidWhiteRight.jpg \n",
    "[image2]: ./test_images_output/solidYellowCurve.jpg\n",
    "[image3]: ./test_images_output/solidYellowLeft.jpg\n",
    "[image4]: ./test_images_output/solidYellowCurve2.jpg\n",
    "[image5]: ./test_images_output/solidWhiteCurve.jpg\n",
    "[image6]: ./test_images_output/whiteCarLaneSwitch.jpg"
   ]
  },
  {
   "cell_type": "code",
   "execution_count": null,
   "metadata": {
    "collapsed": true
   },
   "outputs": [],
   "source": []
  }
 ],
 "metadata": {
  "kernelspec": {
   "display_name": "Python 3",
   "language": "python",
   "name": "python3"
  },
  "language_info": {
   "codemirror_mode": {
    "name": "ipython",
    "version": 3
   },
   "file_extension": ".py",
   "mimetype": "text/x-python",
   "name": "python",
   "nbconvert_exporter": "python",
   "pygments_lexer": "ipython3",
   "version": "3.8.3"
  },
  "toc": {
   "base_numbering": 1,
   "nav_menu": {},
   "number_sections": true,
   "sideBar": true,
   "skip_h1_title": false,
   "title_cell": "Table of Contents",
   "title_sidebar": "Contents",
   "toc_cell": false,
   "toc_position": {},
   "toc_section_display": true,
   "toc_window_display": false
  },
  "widgets": {
   "state": {},
   "version": "1.1.2"
  }
 },
 "nbformat": 4,
 "nbformat_minor": 2
}
